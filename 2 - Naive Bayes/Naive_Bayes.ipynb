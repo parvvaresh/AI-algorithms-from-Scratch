{
  "nbformat": 4,
  "nbformat_minor": 0,
  "metadata": {
    "colab": {
      "provenance": []
    },
    "kernelspec": {
      "name": "python3",
      "display_name": "Python 3"
    },
    "language_info": {
      "name": "python"
    }
  },
  "cells": [
    {
      "cell_type": "code",
      "execution_count": null,
      "metadata": {
        "id": "QjZt_zOqllbQ"
      },
      "outputs": [],
      "source": [
        "import numpy as np\n",
        "class NaiveBayes:\n",
        "\n",
        "  def fit(self, X, y):\n",
        "    n_samples, n_feature = X.shape\n",
        "    self.classes = np.unique(y)\n",
        "    n_classes = len(self.classes)\n",
        "\n",
        "    self._mean = np.zeros((n_classes, n_feature), dtype = np.float64) \n",
        "    self._var = np.zeros((n_classes, n_feature), dtype = np.float64) \n",
        "    self._possibility = np.zeros(n_classes, dtype = np.float64) \n",
        "\n",
        "    for index, Class in enumerate(self.classes):\n",
        "      X_class = X[y == Class]\n",
        "      self._mean[index, : ] = X_class.mean(axis = 0)\n",
        "      self._var[index, : ] = X_class.var(axis = 0)\n",
        "      self._possibility[index] =  X_class.shape[0] / float(n_samples)\n",
        "    print(\"<<model is fit>>\")\n",
        "  \n",
        "  def predict(self, x_test):\n",
        "    y_pred = [(self._predict(test)) for test in x_test]\n",
        "    return np.array(y_pred)\n",
        "  \n",
        "  def _predict(self, test):\n",
        "    possibilities = []\n",
        "    for index, Class in enumerate(self.classes):\n",
        "      y_possibility = self._possibility[index]\n",
        "      x_possibility= self._pdf(index, test)\n",
        "      result = (y_possibility * x_possibility)\n",
        "      possibilities.append(result)\n",
        "    return self.classes[np.argmax(possibilities)]\n",
        "    \n",
        "  def _pdf(self, index, test):\n",
        "    mean = self._mean[index]\n",
        "    var = self._var[index]\n",
        "    numerator = np.exp(- ((test - mean) ** 2) / (2 * var))\n",
        "    denominator = np.sqrt(2 * np.pi * var)\n",
        "    fainal = numerator / denominator\n",
        "    result = 1\n",
        "    for element in fainal:\n",
        "      result *= element\n",
        "    return np.array(result)\n",
        "\n",
        "  def accuracy(self, y, y_pred):\n",
        "    return np.sum(y == y_pred) / len(y)"
      ]
    },
    {
      "cell_type": "code",
      "source": [
        "#load data\n",
        "from sklearn import datasets\n",
        "import pandas as pd\n",
        "iris = datasets.load_iris()\n",
        "X, y = iris.data, iris.target\n",
        "\n",
        "from sklearn.model_selection import train_test_split\n",
        "X_train, X_test, y_train, y_test = train_test_split(\n",
        "        X, y, test_size=0.2, random_state=1234\n",
        ")\n",
        "model = NaiveBayes()\n",
        "model.fit(X_train, y_train)\n",
        "predictions = model.predict(X_test)\n",
        "print(\"Naive Bayes classification accuracy\", model.accuracy(y_test, predictions))"
      ],
      "metadata": {
        "colab": {
          "base_uri": "https://localhost:8080/"
        },
        "id": "gYY3jtC0lsx2",
        "outputId": "8ac21c65-dd39-49c0-fe2c-2058ba5a03b2"
      },
      "execution_count": null,
      "outputs": [
        {
          "output_type": "stream",
          "name": "stdout",
          "text": [
            "<<model is fit>>\n",
            "Naive Bayes classification accuracy 1.0\n"
          ]
        }
      ]
    }
  ]
}