{
  "nbformat": 4,
  "nbformat_minor": 0,
  "metadata": {
    "colab": {
      "provenance": []
    },
    "kernelspec": {
      "name": "python3",
      "display_name": "Python 3"
    },
    "language_info": {
      "name": "python"
    }
  },
  "cells": [
    {
      "cell_type": "code",
      "execution_count": 6,
      "metadata": {
        "id": "nbnQf2L3mku4"
      },
      "outputs": [],
      "source": [
        "import numpy as np\n",
        "import matplotlib.pyplot as plt\n",
        "from google.colab import output\n",
        "output.clear()"
      ]
    },
    {
      "cell_type": "code",
      "source": [
        "class logsticregression:\n",
        "  def __init__(self, n_iter = 10000, learning_rate = 10e-4):\n",
        "    self.n_iter = n_iter\n",
        "    self.learning_rate = learning_rate\n",
        "\n",
        "  def fit(self, X, y):\n",
        "    self.n_samples , self.n_features = X.shape\n",
        "    self.weight = np.zeros(self.n_features)\n",
        "    self.bias = 0\n",
        "    for _ in range(self.n_iter):\n",
        "      y_pred = np.dot(X, self.weight) + self.bias\n",
        "      y_pred = self.sigmoid(y_pred)\n",
        "      dw = (1 / self.n_samples) * np.dot(X.T, (y_pred - y))\n",
        "      db = (1 / self.n_samples) * np.sum(y_pred - y)\n",
        "      self.weight -= (dw * self.learning_rate)\n",
        "      self.bias -= (db * self.learning_rate)\n",
        "\n",
        "  def predict(self, x):\n",
        "    y_pred = np.dot(x, self.weight) + self.bias\n",
        "    y_pred = self.sigmoid(y_pred)\n",
        "    y_pred = [1 if e >= 0.5 else 0 for e in y_pred]\n",
        "    return np.array(y_pred)\n",
        "\n",
        "  def accauracy(self, y, y_pred):\n",
        "    return (np.sum(y == y_pred) / y.shape[0])\n",
        "\n",
        "  def sigmoid(self, x):\n",
        "    return (1 / (1 + np.exp(-x)))\n",
        "\n",
        "\n"
      ],
      "metadata": {
        "id": "NwFkgRy7msNy"
      },
      "execution_count": 17,
      "outputs": []
    },
    {
      "cell_type": "code",
      "source": [
        "from sklearn.model_selection import train_test_split\n",
        "from sklearn import datasets\n",
        "bc = datasets.load_breast_cancer()\n",
        "X, y = bc.data, bc.target\n",
        "\n",
        "X_train, X_test, y_train, y_test = train_test_split(\n",
        "        X, y, test_size=0.3, random_state=1234\n",
        ")"
      ],
      "metadata": {
        "id": "8GbfGWQOnz1p"
      },
      "execution_count": 18,
      "outputs": []
    },
    {
      "cell_type": "code",
      "source": [
        "model = logsticregression()\n",
        "model.fit(X_train, y_train)\n",
        "output.clear()"
      ],
      "metadata": {
        "id": "MMXNbKuBn35G"
      },
      "execution_count": 19,
      "outputs": []
    },
    {
      "cell_type": "code",
      "source": [
        "y_pred = model.predict(X_test)\n",
        "output.clear()"
      ],
      "metadata": {
        "id": "wZuBZfCx8H8e"
      },
      "execution_count": 21,
      "outputs": []
    },
    {
      "cell_type": "code",
      "source": [
        "f\"accauracy of model is : {model.accauracy(y_test, y_pred) * 100}\""
      ],
      "metadata": {
        "colab": {
          "base_uri": "https://localhost:8080/",
          "height": 36
        },
        "id": "o9e4SN1AfEAF",
        "outputId": "9abcad8f-272a-429b-ebd7-d302027e05eb"
      },
      "execution_count": 23,
      "outputs": [
        {
          "output_type": "execute_result",
          "data": {
            "text/plain": [
              "'accauracy of model is : 90.05847953216374'"
            ],
            "application/vnd.google.colaboratory.intrinsic+json": {
              "type": "string"
            }
          },
          "metadata": {},
          "execution_count": 23
        }
      ]
    }
  ]
}