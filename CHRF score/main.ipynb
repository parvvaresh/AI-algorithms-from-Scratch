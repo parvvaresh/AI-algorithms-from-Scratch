{
  "nbformat": 4,
  "nbformat_minor": 0,
  "metadata": {
    "colab": {
      "provenance": []
    },
    "kernelspec": {
      "name": "python3",
      "display_name": "Python 3"
    },
    "language_info": {
      "name": "python"
    }
  },
  "cells": [
    {
      "cell_type": "code",
      "execution_count": 1,
      "metadata": {
        "id": "rHZP4-kh_GZS"
      },
      "outputs": [],
      "source": [
        "import re\n",
        "import string\n",
        "from collections import Counter"
      ]
    },
    {
      "cell_type": "code",
      "source": [
        "class f_score:\n",
        "  def __init__(self):\n",
        "    pass\n",
        "  def get_fscore(self, ref, pred, n, beta):\n",
        "    self.n = n\n",
        "    self.beta = beta\n",
        "\n",
        "    ref_n_grams = Counter(self._creat_n_grams(self._preprocess(ref)))\n",
        "    pred_n_grams = Counter(self._creat_n_grams(self._preprocess(pred)))\n",
        "\n",
        "    over_laps = pred_n_grams & ref_n_grams\n",
        "\n",
        "    total_overlaps = sum(over_laps.values())\n",
        "    chrP = total_overlaps / sum(pred_n_grams.values())\n",
        "    chrR = total_overlaps / sum(ref_n_grams.values())\n",
        "\n",
        "    try:\n",
        "      fscore = (1 + self.beta ** 2) * (chrP * chrR) / (self.beta ** 2 * chrP + chrR)\n",
        "    except ZeroDivisionError:\n",
        "      fscore =  1e-16\n",
        "    return fscore\n",
        "\n",
        "  def _preprocess(self, sent):\n",
        "    sent = sent.lower()\n",
        "    punctuations_list = string.punctuation\n",
        "    translator = str.maketrans('', '', punctuations_list)\n",
        "    sent = sent.translate(translator)\n",
        "    sent = re.sub(r\"\\s+\", \"\", sent)\n",
        "    return sent\n",
        "\n",
        "  def _creat_n_grams(self, text):\n",
        "    return [text[index : index + self.n] for index in range(0, len(text) - self.n + 1)]"
      ],
      "metadata": {
        "id": "7EHUOl1U_J7h"
      },
      "execution_count": 2,
      "outputs": []
    },
    {
      "cell_type": "code",
      "source": [
        "class chrf(f_score):\n",
        "  def __init__(self, min_size_grams = 1, max_size_grams = 6, beta = 3):\n",
        "    self.min_size_grams = min_size_grams\n",
        "    self.max_size_grams = max_size_grams\n",
        "    self.beta = beta\n",
        "\n",
        "\n",
        "  def fit(self, ref, pred):\n",
        "    scores = [self.get_fscore(ref = ref, pred = pred, n = n, beta = self.beta) for n in range(self.min_size_grams, self.max_size_grams + 1)]\n",
        "    return sum(scores) / 6\n"
      ],
      "metadata": {
        "id": "pGlvfyhVDLY-"
      },
      "execution_count": 3,
      "outputs": []
    },
    {
      "cell_type": "code",
      "source": [
        "ref = \"this is a women\"\n",
        "pred = \"thos is a wemen\"\n",
        "model = chrf()\n",
        "model.fit(ref, pred)"
      ],
      "metadata": {
        "colab": {
          "base_uri": "https://localhost:8080/"
        },
        "id": "x_SlGmomDUro",
        "outputId": "aaed1d25-3b9a-4b5c-bab6-4e3a3b41d375"
      },
      "execution_count": null,
      "outputs": [
        {
          "output_type": "execute_result",
          "data": {
            "text/plain": [
              "0.3833754208754209"
            ]
          },
          "metadata": {},
          "execution_count": 25
        }
      ]
    },
    {
      "cell_type": "code",
      "source": [
        "from nltk.translate.chrf_score import sentence_chrf"
      ],
      "metadata": {
        "id": "TwDScv0ULpmb"
      },
      "execution_count": null,
      "outputs": []
    },
    {
      "cell_type": "code",
      "source": [
        "sentence_chrf(ref, pred)"
      ],
      "metadata": {
        "colab": {
          "base_uri": "https://localhost:8080/"
        },
        "id": "UyI75YyrNHnb",
        "outputId": "e37d2dca-661d-4859-c4b2-078782847be5"
      },
      "execution_count": null,
      "outputs": [
        {
          "output_type": "execute_result",
          "data": {
            "text/plain": [
              "0.3833754208754209"
            ]
          },
          "metadata": {},
          "execution_count": 30
        }
      ]
    }
  ]
}