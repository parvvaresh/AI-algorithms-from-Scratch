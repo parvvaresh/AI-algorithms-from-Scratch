{
  "nbformat": 4,
  "nbformat_minor": 0,
  "metadata": {
    "colab": {
      "provenance": []
    },
    "kernelspec": {
      "name": "python3",
      "display_name": "Python 3"
    },
    "language_info": {
      "name": "python"
    }
  },
  "cells": [
    {
      "cell_type": "code",
      "execution_count": 34,
      "metadata": {
        "id": "kdfLFmA3YtaI"
      },
      "outputs": [],
      "source": [
        "import numpy as np\n",
        "import matplotlib.pyplot as plt\n",
        "\n",
        "class Kmeans:\n",
        "    def __init__(self, k  = 3, max_iters = 1000, plot_steps = False):\n",
        "        self.k = k\n",
        "        self.max_iters = max_iters\n",
        "        self.plot_steps = plot_steps\n",
        "        \n",
        "        \n",
        "        self.clusters = [[] for _ in range(0, self.k)]\n",
        "        self.centers = []\n",
        "    def predict(self, data):\n",
        "        self.data = data\n",
        "        self.n_samples, self.n_features = self.data.shape\n",
        "        \n",
        "        index_random_for_centers = np.random.choice(self.n_samples, self.k, replace = False)\n",
        "        self.centers = [self.data[index] for index in index_random_for_centers]\n",
        "        \n",
        "        for _ in range(0, self.max_iters):\n",
        "            self.clusters = self._get_clusters(self.centers)\n",
        "            old_centers = self.centers\n",
        "            self.centers = self._create_new_center(self.clusters) \n",
        "            \n",
        "            if self._check_New_Old_centers(self.centers, old_centers):\n",
        "                break\n",
        "        \n",
        "        \n",
        "        return self._get_labels(self.clusters)\n",
        "    \n",
        "    \n",
        "    def _get_clusters(self, centers):\n",
        "        cluster = [[] for _ in range(0, self.k)]\n",
        "        for index, samples in enumerate(self.data):\n",
        "            closest_center_index = self.get_closest_center_index(samples, centers)\n",
        "            cluster[closest_center_index].append(index)\n",
        "        return cluster\n",
        "    \n",
        "    \n",
        "    def get_closest_center_index(self, point, centers):\n",
        "        distance = [self._distance_calculation(point, center) for center in centers]\n",
        "        closest_center_index = distance.index(min(distance))\n",
        "        return closest_center_index\n",
        "    \n",
        "    def _distance_calculation(self, x1, x2):\n",
        "        return np.sqrt(np.sum((x1- x2) ** 2))\n",
        "            \n",
        "    def _create_new_center(self, clusters):\n",
        "        centers = np.zeros((self.k, self.n_features))\n",
        "        for index , cluster in enumerate(clusters):\n",
        "            cluster_mean = np.mean(self.data[cluster], axis = 0)\n",
        "            centers[index] = cluster_mean\n",
        "        return centers\n",
        "    def _check_New_Old_centers(self, new_centers, old_centers):\n",
        "        distance = [\n",
        "            self._distance_calculation(new_centers[index], old_centers[index]) for index in range(0, self.k)\n",
        "        ]\n",
        "        return np.sum(distance) == 0\n",
        "            \n",
        "    \n",
        "    def _get_labels(self, clusters):\n",
        "        labels = np.empty(self.n_samples)\n",
        "        for index , cluster in enumerate(clusters):\n",
        "            for samples_index in cluster:\n",
        "                labels[samples_index] = index\n",
        "        return labels\n",
        "    \n",
        "    def plot(self):\n",
        "        fig, ax = plt.subplots(figsize=(12, 8))\n",
        "\n",
        "        for i, index in enumerate(self.clusters):\n",
        "            point = self.data[index].T\n",
        "            ax.scatter(*point)\n",
        "\n",
        "        for point in self.centers:\n",
        "            ax.scatter(*point, marker=\"x\", color=\"black\", linewidth=2)\n",
        "\n",
        "        plt.show()   "
      ]
    },
    {
      "cell_type": "code",
      "source": [
        "from sklearn import datasets\n",
        "import pandas as pd\n",
        "iris = datasets.load_iris()\n",
        "X, y = iris.data, iris.target\n",
        "iris_df = pd.DataFrame(iris.data, columns=iris.feature_names)\n",
        "\n",
        "X = np.array(iris_df[[\"petal length (cm)\", \"petal width (cm)\"]])\n",
        "model = Kmeans(k= len(np.unique(y)), max_iters=150, plot_steps=True)\n",
        "y_pred = model.predict(X)\n",
        "model.plot()"
      ],
      "metadata": {
        "colab": {
          "base_uri": "https://localhost:8080/",
          "height": 483
        },
        "id": "p1eRmm7o6hCA",
        "outputId": "2a2463c9-4f0a-4a0b-b02f-78385b8bd5b7"
      },
      "execution_count": 36,
      "outputs": [
        {
          "output_type": "display_data",
          "data": {
            "text/plain": [
              "<Figure size 864x576 with 1 Axes>"
            ],
            "image/png": "[encoded data removed]"
          },
          "metadata": {
            "needs_background": "light"
          }
        }
      ]
    }
  ]
}