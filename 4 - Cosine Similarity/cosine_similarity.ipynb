{
  "nbformat": 4,
  "nbformat_minor": 0,
  "metadata": {
    "colab": {
      "provenance": []
    },
    "kernelspec": {
      "name": "python3",
      "display_name": "Python 3"
    },
    "language_info": {
      "name": "python"
    }
  },
  "cells": [
    {
      "cell_type": "code",
      "execution_count": 1,
      "metadata": {
        "id": "F-NzrBZMLOXg"
      },
      "outputs": [],
      "source": [
        "class cosine_similarity:\n",
        "  def __init__(self):\n",
        "    print(\"just use numpy\")\n",
        "  def fit(self, data):\n",
        "    self.data = np.array(data)\n",
        "    cosine_similarity_matrix = []\n",
        "\n",
        "    for samples_vector in self.data:\n",
        "      temp = []\n",
        "      for test_samples_vector in self.data:\n",
        "        temp.append(self._calcute(list(samples_vector), list(test_samples_vector)))\n",
        "      cosine_similarity_matrix.append(temp)\n",
        "    return np.array(cosine_similarity_matrix)\n",
        "    \n",
        "  \n",
        "  def _inner_product(self, vector1, vector2):\n",
        "    if len(vector1) != len(vector2):\n",
        "      return False\n",
        "    else:\n",
        "      sum = 0\n",
        "      for index in range(0, len(vector1)): #---> or vector2\n",
        "        sum += (vector1[index] * vector2[index])\n",
        "      return sum\n",
        "  \n",
        "  def _measure_the_vector(self, vector):\n",
        "    sum = 0\n",
        "    for element in vector:\n",
        "      sum += (element ** 2)\n",
        "    return sum ** 0.5\n",
        "  \n",
        "  def _calcute(self, vector1, vector2):\n",
        "    return (self._inner_product(vector1, vector2)) / ((self._measure_the_vector(vector1)) * (self._measure_the_vector(vector2)))"
      ]
    }
  ]
}