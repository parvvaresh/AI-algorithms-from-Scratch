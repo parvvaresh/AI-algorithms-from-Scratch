{
 "cells": [
  {
   "cell_type": "code",
   "execution_count": 70,
   "metadata": {
    "executionInfo": {
     "elapsed": 509,
     "status": "ok",
     "timestamp": 1690486498270,
     "user": {
      "displayName": "Alireza Parvaresh",
      "userId": "13077413390910589098"
     },
     "user_tz": -210
    },
    "id": "-O__mDzXWLqG"
   },
   "outputs": [],
   "source": [
    "import string\n",
    "import numpy as np"
   ]
  },
  {
   "cell_type": "code",
   "execution_count": 71,
   "metadata": {
    "executionInfo": {
     "elapsed": 4,
     "status": "ok",
     "timestamp": 1690486498893,
     "user": {
      "displayName": "Alireza Parvaresh",
      "userId": "13077413390910589098"
     },
     "user_tz": -210
    },
    "id": "Swpc2LC5oKa7"
   },
   "outputs": [],
   "source": [
    "class calcute_based_on_edit_distance:\n",
    "\n",
    "  def get_score(self, ref_tokens, pred_tokens):\n",
    "    self.backtrace = [[None for _ in range(0, len(ref_tokens) + 1)] for _ in range(0, len(pred_tokens) + 1)]\n",
    "    self.cost = np.zeros((len(pred_tokens) + 1, len(ref_tokens) + 1))\n",
    "\n",
    "    self.cost[0] = [j for j in range(0, len(ref_tokens) + 1)]\n",
    "    self.backtrace[0][ : ]  = \"ins\"\n",
    "\n",
    "    self.cost[ : ,0] = [j for j in range(0, len(pred_tokens) + 1)]\n",
    "    self.backtrace[ : ][0] = \"del\"\n",
    "\n",
    "    for row in range(1, len(pred_tokens) + 1):\n",
    "      for col in range(1, len(ref_tokens) + 1):\n",
    "        if ref_tokens[col - 1] == pred_tokens[row - 1]:\n",
    "          self.cost[row][col] = self.cost[row - 1][col - 1]\n",
    "          self.backtrace[row][col] = \"same\"\n",
    "        else:\n",
    "          substitution = self.cost[row - 1][col - 1]\n",
    "          insert = self.cost[row][col - 1]\n",
    "          delete = self.cost[row - 1][col]\n",
    "          fainal_score = min(insert, delete, substitution)\n",
    "          self.cost[row][col] = fainal_score + 1\n",
    "          if fainal_score == insert:\n",
    "            self.backtrace[row][col] = \"ins\"\n",
    "          elif fainal_score == delete:\n",
    "            self.backtrace[row][col] = \"del\"\n",
    "          elif fainal_score == substitution:\n",
    "            self.backtrace[row][col] = \"sub\"\n",
    "    i, j = len(pred_tokens), len(ref_tokens)\n",
    "    self.num_sub, self.num_del, self.num_ins, self.num_same = 0, 0, 0, 0\n",
    "    while i > 0 or j > 0:\n",
    "      if self.backtrace[i][j] == \"same\":\n",
    "        self.num_same += 1\n",
    "        i -= 1\n",
    "        j -= 1\n",
    "\n",
    "      elif self.backtrace[i][j] == \"sub\":\n",
    "        self.num_sub += 1\n",
    "        i -= 1\n",
    "        j -= 1\n",
    "\n",
    "      elif self.backtrace[i][j] == \"del\":\n",
    "        self.num_del += 1\n",
    "        i -= 1\n",
    "\n",
    "      elif self.backtrace[i][j] == \"ins\":\n",
    "        self.num_ins += 1\n",
    "        j -= 1\n",
    "    return (self.num_del + self.num_ins + self.num_sub) / len(ref_tokens)"
   ]
  },
  {
   "cell_type": "code",
   "execution_count": 72,
   "metadata": {
    "executionInfo": {
     "elapsed": 557,
     "status": "ok",
     "timestamp": 1690486501050,
     "user": {
      "displayName": "Alireza Parvaresh",
      "userId": "13077413390910589098"
     },
     "user_tz": -210
    },
    "id": "HFQoHy6jWM1J"
   },
   "outputs": [],
   "source": [
    "class TER(calcute_based_on_edit_distance):\n",
    "  def __init__(self):\n",
    "    persian_punctuations = '''`÷×؛<>_()*&^%][ـ،/:\"؟.,'{}~¦+|!”…“–ـ'''\n",
    "    self.punctuations_list = string.punctuation + persian_punctuations\n",
    "\n",
    "  def fit(self, ref, pred):\n",
    "    ref_tokens = self._preprocess(ref)\n",
    "    pred_tokens = self._preprocess(pred)\n",
    "    return self.get_score(ref_tokens, pred_tokens)\n",
    "\n",
    "  def _preprocess(self, text):\n",
    "    text = text.lower()\n",
    "    translator = str.maketrans('', '', self.punctuations_list)\n",
    "    text = text.translate(translator)\n",
    "    return text.split() #return tokens\n",
    "  def get_edits(self):\n",
    "    return {\n",
    "        \"number of delete\" : self.num_del,\n",
    "        \"number of insert\" : self.num_ins,\n",
    "        \"number of substitution\" : self.num_sub,\n",
    "        \"number of same\" : self.num_same\n",
    "    }"
   ]
  },
  {
   "cell_type": "code",
   "execution_count": 73,
   "metadata": {
    "colab": {
     "base_uri": "https://localhost:8080/"
    },
    "executionInfo": {
     "elapsed": 17,
     "status": "ok",
     "timestamp": 1690486503299,
     "user": {
      "displayName": "Alireza Parvaresh",
      "userId": "13077413390910589098"
     },
     "user_tz": -210
    },
    "id": "UcOesBbSWdEa",
    "outputId": "6d336142-daec-4c8c-ca24-754826bca674"
   },
   "outputs": [
    {
     "data": {
      "text/plain": [
       "0.3333333333333333"
      ]
     },
     "execution_count": 73,
     "metadata": {},
     "output_type": "execute_result"
    }
   ],
   "source": [
    "model = TER()\n",
    "model.fit(\"i am ali\", \"i am ali pfD\")"
   ]
  },
  {
   "cell_type": "code",
   "execution_count": 74,
   "metadata": {
    "colab": {
     "base_uri": "https://localhost:8080/"
    },
    "executionInfo": {
     "elapsed": 505,
     "status": "ok",
     "timestamp": 1690486508714,
     "user": {
      "displayName": "Alireza Parvaresh",
      "userId": "13077413390910589098"
     },
     "user_tz": -210
    },
    "id": "tNypt0kKW7wE",
    "outputId": "1a9e9cf0-dbf3-4178-cd5f-ae73fdb14865"
   },
   "outputs": [
    {
     "data": {
      "text/plain": [
       "{'number of delete': 1,\n",
       " 'number of insert': 0,\n",
       " 'number of substitution': 0,\n",
       " 'number of same': 3}"
      ]
     },
     "execution_count": 74,
     "metadata": {},
     "output_type": "execute_result"
    }
   ],
   "source": [
    "model.get_edits()"
   ]
  }
 ],
 "metadata": {
  "colab": {
   "authorship_tag": "ABX9TyNdBmP1vJ25BnzP3eQ8vTTS",
   "provenance": []
  },
  "kernelspec": {
   "display_name": "Python 3 (ipykernel)",
   "language": "python",
   "name": "python3"
  },
  "language_info": {
   "codemirror_mode": {
    "name": "ipython",
    "version": 3
   },
   "file_extension": ".py",
   "mimetype": "text/x-python",
   "name": "python",
   "nbconvert_exporter": "python",
   "pygments_lexer": "ipython3",
   "version": "3.10.6"
  }
 },
 "nbformat": 4,
 "nbformat_minor": 1
}
