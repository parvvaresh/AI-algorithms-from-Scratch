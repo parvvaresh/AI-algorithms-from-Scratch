{
  "nbformat": 4,
  "nbformat_minor": 0,
  "metadata": {
    "colab": {
      "provenance": []
    },
    "kernelspec": {
      "name": "python3",
      "display_name": "Python 3"
    },
    "language_info": {
      "name": "python"
    }
  },
  "cells": [
    {
      "cell_type": "code",
      "execution_count": 7,
      "metadata": {
        "id": "7jUzAXV9Yza7"
      },
      "outputs": [],
      "source": [
        "class jaccard_model:\n",
        "  def __init__(self, k = 2):\n",
        "    self.k = k\n",
        "\n",
        "  def jaccard_similarity(self, A, B):\n",
        "    SA = set([A[index : index + self.k] for index in range(0 , len(A) - (self.k - 1))])\n",
        "    SB = set([B[index : index + self.k] for index in range(0 , len(B) - (self.k - 1))])\n",
        "\n",
        "    intersect = SA.intersection(SB)\n",
        "    union = SA.union(SB)\n",
        "    jaccard_similarity = len(intersect) / len(union)\n",
        "\n",
        "    return jaccard_similarity\n",
        "\n",
        "  def jaccard_distance(self, A, B):\n",
        "    SA = set([A[index : index + self.k] for index in range(0 , len(A) - (self.k - 1))])\n",
        "    SB = set([B[index : index + self.k] for index in range(0 , len(B) - (self.k - 1))])\n",
        "\n",
        "    intersect = SA.intersection(SB)\n",
        "    union = SA.union(SB)\n",
        "    jaccard_similarity = len(intersect) / len(union)\n",
        "    jaccard_distance = 1 - jaccard_similarity \n",
        "    return jaccard_distance"
      ]
    },
    {
      "cell_type": "code",
      "source": [
        "word1 = \"alireza\"\n",
        "word2 = \"ahmadreza\""
      ],
      "metadata": {
        "id": "BLpOjLR3h3b2"
      },
      "execution_count": 8,
      "outputs": []
    },
    {
      "cell_type": "code",
      "source": [
        "model = jaccard_model()"
      ],
      "metadata": {
        "id": "hoWfs6NWiAif"
      },
      "execution_count": 9,
      "outputs": []
    },
    {
      "cell_type": "code",
      "source": [
        "model.jaccard_distance(word1, word2)"
      ],
      "metadata": {
        "colab": {
          "base_uri": "https://localhost:8080/"
        },
        "id": "Pl3an7dkiWZc",
        "outputId": "6a8cf669-03f6-4b5f-a1f1-020ed8738a8e"
      },
      "execution_count": 10,
      "outputs": [
        {
          "output_type": "execute_result",
          "data": {
            "text/plain": [
              "0.7272727272727273"
            ]
          },
          "metadata": {},
          "execution_count": 10
        }
      ]
    },
    {
      "cell_type": "code",
      "source": [
        "model.jaccard_similarity(word1, word2)"
      ],
      "metadata": {
        "colab": {
          "base_uri": "https://localhost:8080/"
        },
        "id": "XvEMZFjtjLJX",
        "outputId": "c4587e39-b6cc-45e1-ce66-f4cfc9e84b62"
      },
      "execution_count": 11,
      "outputs": [
        {
          "output_type": "execute_result",
          "data": {
            "text/plain": [
              "0.2727272727272727"
            ]
          },
          "metadata": {},
          "execution_count": 11
        }
      ]
    }
  ]
}
