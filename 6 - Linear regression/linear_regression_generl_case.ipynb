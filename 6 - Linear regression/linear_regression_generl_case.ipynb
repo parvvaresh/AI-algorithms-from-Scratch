{
  "nbformat": 4,
  "nbformat_minor": 0,
  "metadata": {
    "colab": {
      "provenance": []
    },
    "kernelspec": {
      "name": "python3",
      "display_name": "Python 3"
    },
    "language_info": {
      "name": "python"
    }
  },
  "cells": [
    {
      "cell_type": "code",
      "execution_count": 26,
      "metadata": {
        "id": "EnvbFiEcOSM7"
      },
      "outputs": [],
      "source": [
        "import numpy as np\n",
        "import matplotlib.pyplot as plt"
      ]
    },
    {
      "cell_type": "code",
      "source": [
        "class linear_regression:\n",
        "  def __init__(self, lr = 1e-6, repeats = 100000):\n",
        "    self.lr = lr\n",
        "    self.repeats = repeats\n",
        "    self.costs = []\n",
        "    self.weight = None\n",
        "    self.bias = None\n",
        "  def fit(self, X, Y):\n",
        "\n",
        "    m = X.shape[0]\n",
        "    n = X.shape[1]\n",
        "\n",
        "\n",
        "    self.weight = np.zeros((n, 1))\n",
        "    self.bias = 0\n",
        "\n",
        "    for repeat in range(0, self.repeats):\n",
        "\n",
        "      y_hat = np.dot(X, self.weight) + self.bias\n",
        "      Y = Y.reshape(m, 1)\n",
        "      loss = y_hat - Y\n",
        "\n",
        "      cost = np.sum(loss ** 2) / (m * 2)\n",
        "      self.costs.append(cost)\n",
        "\n",
        "      db = np.sum(loss) / m\n",
        "      dw = np.dot(X.T, loss) / m\n",
        "\n",
        "      self.weight -= (self.lr) * dw\n",
        "      self.bias -= (self.lr) * db\n",
        "\n",
        "  def predict(self, X):\n",
        "    self.y_predict =  np.dot(X, self.weight) + self.bias\n",
        "    return self.y_predict\n",
        "\n",
        "  def get_pharameter(self):\n",
        "    return f\"this is wight{self.weight} and this bias {self.bias}\"\n",
        "\n",
        "  def MSE(self, y):\n",
        "    loss_predict = self.predict - y\n",
        "    mse = np.sum(loss_predict ** 2) / y.shape[0]\n",
        "    return mse\n",
        "  def show_costs(self):\n",
        "    plt.plot(self.costs)"
      ],
      "metadata": {
        "id": "CapEUexnYdBa"
      },
      "execution_count": 66,
      "outputs": []
    },
    {
      "cell_type": "code",
      "source": [
        "import warnings\n",
        "warnings.filterwarnings(\"ignore\")\n",
        "from sklearn.datasets import fetch_openml\n",
        "boston = fetch_openml(name='boston')\n",
        "X, y = boston.data, boston.target\n",
        "X = X.astype('int')\n",
        "X = np.array(X)\n",
        "y = np.array(y)\n",
        "from sklearn.model_selection import train_test_split\n",
        "X_train,X_test,y_train,y_test = train_test_split(X,y,test_size=0.2,random_state=0)"
      ],
      "metadata": {
        "id": "KXj6hb0FScKU"
      },
      "execution_count": 67,
      "outputs": []
    },
    {
      "cell_type": "code",
      "source": [
        "model = linear_regression()\n",
        "model.fit(X_train, y_train)"
      ],
      "metadata": {
        "id": "TAASk4jXS00o"
      },
      "execution_count": 68,
      "outputs": []
    },
    {
      "cell_type": "code",
      "source": [
        "model.show_costs()"
      ],
      "metadata": {
        "colab": {
          "base_uri": "https://localhost:8080/",
          "height": 430
        },
        "id": "en1Qzi-eNe6l",
        "outputId": "12734ec1-536f-4f5e-ffb0-3ce3983b2c4c"
      },
      "execution_count": 69,
      "outputs": [
        {
          "output_type": "display_data",
          "data": {
            "text/plain": [
              "<Figure size 640x480 with 1 Axes>"
            ],
            "image/png": "[encoded data removed]"
          },
          "metadata": {}
        }
      ]
    }
  ]
}