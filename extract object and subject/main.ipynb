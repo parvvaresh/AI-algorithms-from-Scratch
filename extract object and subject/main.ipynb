{
  "nbformat": 4,
  "nbformat_minor": 0,
  "metadata": {
    "colab": {
      "provenance": []
    },
    "kernelspec": {
      "name": "python3",
      "display_name": "Python 3"
    },
    "language_info": {
      "name": "python"
    }
  },
  "cells": [
    {
      "cell_type": "code",
      "execution_count": 6,
      "metadata": {
        "id": "LA92Vo_Inek3"
      },
      "outputs": [],
      "source": [
        "import re\n",
        "import spacy\n",
        "from spacy import displacy\n",
        "nlp = spacy.load('en_core_web_sm')"
      ]
    },
    {
      "cell_type": "code",
      "source": [
        "class extract_realtion:\n",
        "  def __init__(self):\n",
        "    pass\n",
        "  def fit(self, sent):\n",
        "    subj = \"\"\n",
        "    obj = \"\"\n",
        "\n",
        "    prv_tok_dep = \"\"\n",
        "    prv_tok_text = \"\"\n",
        "\n",
        "    prefix = \"\"\n",
        "    modifier = \"\"\n",
        "\n",
        "    for tok in nlp(sent):\n",
        "      if tok.dep_ !=  \"punct\":\n",
        "\n",
        "        if tok.dep_ == \"compound\":\n",
        "          prefix = tok.text\n",
        "          if prv_tok_dep == \"compound\":\n",
        "            prefix = prv_tok_text  + \" \" + tok.text\n",
        "\n",
        "        if tok.dep_.endswith(\"mod\") == True:\n",
        "          modifier = tok.text\n",
        "          if prv_tok_dep == \"compound\":\n",
        "            modifier = prv_tok_text + \" \" + tok.text\n",
        "\n",
        "        if tok.dep_.find(\"subj\") == True:\n",
        "          subj = modifier + \" \" + prefix + \" \" + tok.text\n",
        "          prefix = \"\"\n",
        "          modifier = \"\"\n",
        "          prv_tok_dep = \"\"\n",
        "          prv_tok_text = \"\"\n",
        "\n",
        "        if tok.dep_.find(\"obj\") == True:\n",
        "          obj = modifier + \" \" + prefix + \" \" + tok.text\n",
        "\n",
        "      prv_tok_dep = tok.dep_\n",
        "      prv_tok_text = tok.text\n",
        "    return [subj.strip(), obj.strip()]\n"
      ],
      "metadata": {
        "id": "IBDepiSnnlVW"
      },
      "execution_count": 7,
      "outputs": []
    },
    {
      "cell_type": "code",
      "source": [
        "text = \"The 22-year-old recently won the ATP Challenger tournament\"\n",
        "\n",
        "model = extract_realtion()\n",
        "\n",
        "model.fit(text)"
      ],
      "metadata": {
        "colab": {
          "base_uri": "https://localhost:8080/"
        },
        "id": "scvPamY8oJ4c",
        "outputId": "7ac63e29-96e8-40b9-9372-a40c44fa7edf"
      },
      "execution_count": 8,
      "outputs": [
        {
          "output_type": "execute_result",
          "data": {
            "text/plain": [
              "['year  old', 'recently ATP Challenger tournament']"
            ]
          },
          "metadata": {},
          "execution_count": 8
        }
      ]
    }
  ]
}