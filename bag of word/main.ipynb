{
  "nbformat": 4,
  "nbformat_minor": 0,
  "metadata": {
    "colab": {
      "provenance": []
    },
    "kernelspec": {
      "name": "python3",
      "display_name": "Python 3"
    },
    "language_info": {
      "name": "python"
    }
  },
  "cells": [
    {
      "cell_type": "code",
      "execution_count": null,
      "metadata": {
        "id": "TO8EkHaOu03I"
      },
      "outputs": [],
      "source": [
        "from google.colab import output\n",
        "import nltk\n",
        "nltk.download('punkt')\n",
        "import numpy as np\n",
        "import re\n",
        "output.clear()"
      ]
    },
    {
      "cell_type": "code",
      "source": [
        "text = \"\"\"\n",
        "      Beans. I was trying to explain to somebody as we were flying in, that’s corn.\n",
        "      That’s beans. And they were very impressed at my agricultural knowledge.\n",
        "      Please give it up for Amaury once again for that outstanding introduction.\n",
        "      I have a bunch of good friends here today, including somebody who I served with,\n",
        "      who is one of the finest senators in the country,\n",
        "      and we’re lucky to have him, your Senator, Dick Durbin is here.\n",
        "      I also noticed, by the way, former Governor Edgar here,\n",
        "      who I haven’t seen in a long time, and somehow he has not aged and I have.\n",
        "      And it’s great to see you, Governor.\n",
        "      I want to thank President Killeen and everybody at the U of I System for making it possible for me to be here today.\n",
        "      And I am deeply honored at the Paul Douglas Award that is being given to me.\n",
        "      He is somebody who set the path for so much outstanding public service here in Illinois.\n",
        "      Now, I want to start by addressing the elephant in the room. I know people are still wondering why I didn’t speak at the commencement.\n",
        "\"\"\"\n",
        "\n",
        "\n",
        "\n",
        "\n",
        "\n",
        "datasets = nltk.sent_tokenize(text)\n",
        "\n",
        "\n",
        "\n",
        "for index, sent in enumerate(datasets):\n",
        "  print(f\"{index + 1} --- > {sent}\")"
      ],
      "metadata": {
        "colab": {
          "base_uri": "https://localhost:8080/"
        },
        "id": "ZcpLk33wu7Mv",
        "outputId": "a25f7e56-4ab5-4626-cd6f-20e875e65142"
      },
      "execution_count": null,
      "outputs": [
        {
          "output_type": "stream",
          "name": "stdout",
          "text": [
            "1 --- > \n",
            "      Beans.\n",
            "2 --- > I was trying to explain to somebody as we were flying in, that’s corn.\n",
            "3 --- > That’s beans.\n",
            "4 --- > And they were very impressed at my agricultural knowledge.\n",
            "5 --- > Please give it up for Amaury once again for that outstanding introduction.\n",
            "6 --- > I have a bunch of good friends here today, including somebody who I served with, \n",
            "      who is one of the finest senators in the country, \n",
            "      and we’re lucky to have him, your Senator, Dick Durbin is here.\n",
            "7 --- > I also noticed, by the way, former Governor Edgar here, \n",
            "      who I haven’t seen in a long time, and somehow he has not aged and I have.\n",
            "8 --- > And it’s great to see you, Governor.\n",
            "9 --- > I want to thank President Killeen and everybody at the U of I System for making it possible for me to be here today.\n",
            "10 --- > And I am deeply honored at the Paul Douglas Award that is being given to me.\n",
            "11 --- > He is somebody who set the path for so much outstanding public service here in Illinois.\n",
            "12 --- > Now, I want to start by addressing the elephant in the room.\n",
            "13 --- > I know people are still wondering why I didn’t speak at the commencement.\n"
          ]
        }
      ]
    },
    {
      "cell_type": "code",
      "source": [
        "for index in range(0, len(datasets)):\n",
        "  datasets[index] = datasets[index].lower()\n",
        "  datasets[index] = re.sub(\"\\W\", \" \", datasets[index])\n",
        "  datasets[index] = re.sub(\"\\s+\", \" \", datasets[index])\n",
        "\n",
        "\n",
        "\n",
        "for index, sent in enumerate(datasets):\n",
        "  print(f\"{index + 1} --- > {sent}\")"
      ],
      "metadata": {
        "colab": {
          "base_uri": "https://localhost:8080/"
        },
        "id": "r0XakaP1v7wS",
        "outputId": "b23eb9d8-4b89-4f3d-c3da-09434344c31c"
      },
      "execution_count": null,
      "outputs": [
        {
          "output_type": "stream",
          "name": "stdout",
          "text": [
            "1 --- >  beans \n",
            "2 --- > i was trying to explain to somebody as we were flying in that s corn \n",
            "3 --- > that s beans \n",
            "4 --- > and they were very impressed at my agricultural knowledge \n",
            "5 --- > please give it up for amaury once again for that outstanding introduction \n",
            "6 --- > i have a bunch of good friends here today including somebody who i served with who is one of the finest senators in the country and we re lucky to have him your senator dick durbin is here \n",
            "7 --- > i also noticed by the way former governor edgar here who i haven t seen in a long time and somehow he has not aged and i have \n",
            "8 --- > and it s great to see you governor \n",
            "9 --- > i want to thank president killeen and everybody at the u of i system for making it possible for me to be here today \n",
            "10 --- > and i am deeply honored at the paul douglas award that is being given to me \n",
            "11 --- > he is somebody who set the path for so much outstanding public service here in illinois \n",
            "12 --- > now i want to start by addressing the elephant in the room \n",
            "13 --- > i know people are still wondering why i didn t speak at the commencement \n"
          ]
        }
      ]
    },
    {
      "cell_type": "code",
      "source": [
        "def create_word_tokenize(data):\n",
        "  sents = list()\n",
        "  for sent in data:\n",
        "    sents.append(nltk.word_tokenize(sent))\n",
        "  return sents\n",
        "tokenizes_sents = create_word_tokenize(datasets)"
      ],
      "metadata": {
        "id": "cEL9Buj00qLG"
      },
      "execution_count": null,
      "outputs": []
    },
    {
      "cell_type": "code",
      "source": [
        "def create_all_words(data):\n",
        "  words = list()\n",
        "  for sent in data:\n",
        "    for word in nltk.word_tokenize(sent):\n",
        "      words.append(word)\n",
        "\n",
        "  result = list()\n",
        "  for word in words:\n",
        "    if word not in result:\n",
        "      result.append(word)\n",
        "  return result\n",
        "\n",
        "words = create_all_words(datasets)"
      ],
      "metadata": {
        "id": "y2BVr_j64Y9v"
      },
      "execution_count": null,
      "outputs": []
    },
    {
      "cell_type": "code",
      "source": [
        "def bag_of_words():\n",
        "  result = dict()\n",
        "  for index in range(len(tokenizes_sents)):\n",
        "    counter = []\n",
        "    for word in words:\n",
        "      counter.append(tokenizes_sents[index].count(word))\n",
        "    result[index + 1] = counter\n",
        "  return result\n",
        "bag = bag_of_words()\n",
        "\n",
        "def convert_np(temp):\n",
        "  result = []\n",
        "  for element in list(temp.values()):\n",
        "    result.append(element)\n",
        "\n",
        "  return np.array(result)\n",
        "\n",
        "bag_np = convert_np(bag)\n",
        "\n",
        "bag_np[0]\n",
        "\n"
      ],
      "metadata": {
        "colab": {
          "base_uri": "https://localhost:8080/"
        },
        "id": "6K-c7tNE4yb3",
        "outputId": "a83f8b97-1f81-4421-921a-bd1f4a9ca3ca"
      },
      "execution_count": null,
      "outputs": [
        {
          "output_type": "execute_result",
          "data": {
            "text/plain": [
              "array([1, 0, 0, 0, 0, 0, 0, 0, 0, 0, 0, 0, 0, 0, 0, 0, 0, 0, 0, 0, 0, 0,\n",
              "       0, 0, 0, 0, 0, 0, 0, 0, 0, 0, 0, 0, 0, 0, 0, 0, 0, 0, 0, 0, 0, 0,\n",
              "       0, 0, 0, 0, 0, 0, 0, 0, 0, 0, 0, 0, 0, 0, 0, 0, 0, 0, 0, 0, 0, 0,\n",
              "       0, 0, 0, 0, 0, 0, 0, 0, 0, 0, 0, 0, 0, 0, 0, 0, 0, 0, 0, 0, 0, 0,\n",
              "       0, 0, 0, 0, 0, 0, 0, 0, 0, 0, 0, 0, 0, 0, 0, 0, 0, 0, 0, 0, 0, 0,\n",
              "       0, 0, 0, 0, 0, 0, 0, 0])"
            ]
          },
          "metadata": {},
          "execution_count": 7
        }
      ]
    }
  ]
}