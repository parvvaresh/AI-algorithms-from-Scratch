{
  "nbformat": 4,
  "nbformat_minor": 0,
  "metadata": {
    "colab": {
      "provenance": []
    },
    "kernelspec": {
      "name": "python3",
      "display_name": "Python 3"
    },
    "language_info": {
      "name": "python"
    }
  },
  "cells": [
    {
      "cell_type": "code",
      "execution_count": 10,
      "metadata": {
        "id": "W_z5V_qP3MfA"
      },
      "outputs": [],
      "source": [
        "class N_gram:\n",
        "  def __init__(self):\n",
        "    pass\n",
        "\n",
        "  def _get_n_gram(self, text, n):\n",
        "    self.text = text.split()\n",
        "    self.n = n\n",
        "    result = list()\n",
        "    for index in range(0, len(self.text) - self.n + 1):\n",
        "      result.append(tuple(self.text[index : index + self.n]))\n",
        "    return result"
      ]
    },
    {
      "cell_type": "code",
      "source": [
        "test = N_gram()\n",
        "test._get_n_gram(\"the ball is blue\", 2)"
      ],
      "metadata": {
        "colab": {
          "base_uri": "https://localhost:8080/"
        },
        "id": "CXS-vU3JLZQP",
        "outputId": "8ed2bf22-7d7a-4916-965d-a00b2f01fb7b"
      },
      "execution_count": 11,
      "outputs": [
        {
          "output_type": "execute_result",
          "data": {
            "text/plain": [
              "[('the', 'ball'), ('ball', 'is'), ('is', 'blue')]"
            ]
          },
          "metadata": {},
          "execution_count": 11
        }
      ]
    }
  ]
}