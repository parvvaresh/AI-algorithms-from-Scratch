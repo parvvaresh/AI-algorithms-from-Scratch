{
  "nbformat": 4,
  "nbformat_minor": 0,
  "metadata": {
    "colab": {
      "provenance": []
    },
    "kernelspec": {
      "name": "python3",
      "display_name": "Python 3"
    },
    "language_info": {
      "name": "python"
    }
  },
  "cells": [
    {
      "cell_type": "code",
      "execution_count": 1,
      "metadata": {
        "id": "a3hanxNprQxG"
      },
      "outputs": [],
      "source": [
        "import math"
      ]
    },
    {
      "cell_type": "code",
      "source": [
        "class N_gram:\n",
        "\tdef __init__(self):\n",
        "\t\tpass\n",
        "\n",
        "\tdef n_gram(self, text, n):\n",
        "\t\tself.text = text.split()\n",
        "\t\tself.n = n\n",
        "\t\tNgram = [tuple(self.text[index : index + self.n]) for index in range(0, len(self.text) - self.n + 1)]\n",
        "\t\treturn Ngram"
      ],
      "metadata": {
        "id": "u7qE_ywZraRY"
      },
      "execution_count": 2,
      "outputs": []
    },
    {
      "cell_type": "code",
      "source": [
        "class BLEU(N_gram):\n",
        "\tdef __init__(self):\n",
        "\t\tself.max_n_gram = 4\n",
        "\n",
        "\tdef get_score(self, refs, pred):\n",
        "\t\tpred_lenght = len(pred.split())\n",
        "\t\trefs_lenght = []\n",
        "\t\trefs_ngram = list()\n",
        "\t\tfor ref in refs:\n",
        "\t\t\trefs_lenght.append(len(ref.split()))\n",
        "\t\t\tresult = [self._counter_ngrams(self.n_gram(ref, n)) for n in range(1 , self.max_n_gram + 1)]\n",
        "\t\t\trefs_ngram.append(result)\n",
        "\t\tpred_ngram = [self._counter_ngrams(self.n_gram(pred, n)) for n in range(1 , self.max_n_gram + 1)]\n",
        "\n",
        "\t\tscore = self._get_bleu(refs_ngram, pred_ngram, pred_lenght, refs_lenght)\n",
        "\t\treturn score\n",
        "\n",
        "\n",
        "\tdef _get_bleu(self, refs_ngram, pred_ngram, pred_lenght, refs_lenght):\n",
        "\t\tclipped_precisions = []\n",
        "\t\tfor number_ngram in range(0, self.max_n_gram):\n",
        "\t\t\tpred_gram = pred_ngram[number_ngram]\n",
        "\t\t\trefs_gram = [refs_ngram[num_refs_sents][number_ngram] for num_refs_sents in range(0, len(refs_ngram))]\n",
        "\t\t\tclipped_count = self._clipped_count(refs_gram, pred_gram)\n",
        "\t\t\tclipped_precision = clipped_count / (pred_lenght - number_ngram)\n",
        "\t\t\tclipped_precisions.append(clipped_precision)\n",
        "\n",
        "\t\tpb = self._brevity_penalty(refs_lenght, pred_lenght)\n",
        "\t\tdb = 0\n",
        "\t\tfor element in clipped_precisions:\n",
        "\t\t\tif element == 0:\n",
        "\t\t\t\tdb += 0\n",
        "\t\t\telse:\n",
        "\t\t\t\tdb += (math.log(element))\n",
        "\t\tdb = (db / 4)\n",
        "\t\tif db == 0:\n",
        "\t\t\treturn 0\n",
        "\t\telse:\n",
        "\t\t\treturn pb * math.exp(db)\n",
        "\n",
        "\tdef _clipped_count(self, refs_grams, pred_gram):\n",
        "\t\tcount = 0\n",
        "\t\tfor p_gram in pred_gram:\n",
        "\t\t\tcounter_pred = pred_gram[p_gram]\n",
        "\t\t\tmax_r_gram = 0\n",
        "\t\t\tfor ref_gram in refs_grams:\n",
        "\t\t\t\tif p_gram in ref_gram:\n",
        "\t\t\t\t\tmax_r_gram = max(max_r_gram, ref_gram[p_gram])\n",
        "\t\t\tcount += min(max_r_gram, counter_pred)\n",
        "\t\treturn count\n",
        "\n",
        "\n",
        "\tdef _brevity_penalty(self, refs_lenght, pred_lenght):\n",
        "\t\tclosest_ref_lenght = self._get_closest_ref_lenght(refs_lenght, pred_lenght)\n",
        "\t\tif closest_ref_lenght < pred_lenght:\n",
        "\t\t\treturn 1\n",
        "\t\telif closest_ref_lenght >= pred_lenght:\n",
        "\t\t\treturn math.exp(1 - closest_ref_lenght / pred_lenght)\n",
        "\n",
        "\tdef _get_closest_ref_lenght(self, ref_lenght, pred_lenght):\n",
        "\t\treturn min(ref_lenght , key=lambda temp : abs(temp - pred_lenght))\n",
        "\n",
        "\tdef _counter_ngrams(self, ngram):\n",
        "\t\tresult = {}\n",
        "\t\tfor element in ngram:\n",
        "\t\t\tif element in result:\n",
        "\t\t\t\tresult[element] += 1\n",
        "\t\t\telif element not in result:\n",
        "\t\t\t\tresult[element] = 1\n",
        "\t\treturn result\n"
      ],
      "metadata": {
        "id": "2grmoROdrlw_"
      },
      "execution_count": 3,
      "outputs": []
    },
    {
      "cell_type": "code",
      "source": [
        "test = BLEU()\n",
        "refs = [\n",
        "    \"The ball is  blue\",\n",
        "    \"the color of ball is blue\"\n",
        "]\n",
        "pred = \"the ball is blue color\"\n",
        "\n",
        "print(f\"the score of translate is {round(test.get_score(refs, pred) * 100, 2)}\")"
      ],
      "metadata": {
        "colab": {
          "base_uri": "https://localhost:8080/"
        },
        "id": "scTpjvZ5rr-N",
        "outputId": "03c36f6e-b370-4c2d-8b73-11a63af6eed2"
      },
      "execution_count": 5,
      "outputs": [
        {
          "output_type": "stream",
          "name": "stdout",
          "text": [
            "the score of translate is 63.89\n"
          ]
        }
      ]
    }
  ]
}